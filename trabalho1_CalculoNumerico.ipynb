{
 "cells": [
  {
   "cell_type": "code",
   "execution_count": null,
   "id": "c70f3d92",
   "metadata": {},
   "outputs": [
    {
     "name": "stdout",
     "output_type": "stream",
     "text": [
      "Derivada aproximada: 0.312048\n",
      "Derivada exata (cos(1 rad)): 0.540302\n",
      "Erro absoluto: 2.282543e-01\n",
      "\n",
      "Nota: 1 radiano ≈ 57.3 graus\n",
      "cos(1 radiano) = 0.540302\n",
      "cos(1 grau) = 0.999848\n",
      "Derivada exata: 0.5403023058681398\n"
     ]
    }
   ],
   "source": [
    "import matplotlib.pyplot as plt\n",
    "import math\n",
    "import numpy as np\n",
    "\n",
    "class derivadas:\n",
    "    def __init__(self, funcao):\n",
    "        self.funcao = funcao\n",
    "\n",
    "    def diferenca_progressiva(self,f, x, h):\n",
    "        \n",
    "        return (f(x + h) - f(x)) / h\n",
    "\n",
    "def f(x):\n",
    "    return sin(x)\n",
    "\n",
    "derivada = derivadas(f)\n",
    "valores_h = np.linspace(0.5, 1, 10)\n",
    "derivada_aproximada_1 = derivada.diferenca_progressiva(f, 1.0, valores_h[0])\n",
    "\n",
    "derivada_exata = cos(1.0)\n",
    "erro_1 = abs(derivada_aproximada_1 - derivada_exata)\n",
    "\n",
    "print(f\"Derivada aproximada: {derivada_aproximada_1:.6f}\")"
   ]
  },
  {
   "cell_type": "code",
   "execution_count": null,
   "id": "538ce8cf",
   "metadata": {},
   "outputs": [],
   "source": [
    "#Exercício 2\n",
    "\n",
    "from math import cos, exp\n",
    "\n",
    "\n",
    "def metodo_de_newton(f, df, x0, max_steps, tol):\n",
    "        xk = x0\n",
    "        \n",
    "        for k in range(max_steps):\n",
    "            fx = f(xk)\n",
    "\n",
    "            if abs(fx) < tol:\n",
    "                break\n",
    "\n",
    "            dfx = df(xk)\n",
    "            \n",
    "            # verifica se a derivada é muito pequena p/ evitar divisão por zero\n",
    "            if abs(dfx) < 1e-10:\n",
    "                print(f\"Aviso: Derivada muito pequena em x = {xk}\")\n",
    "                break\n",
    "            \n",
    "            \n",
    "            xk = xk - fx / dfx\n",
    "\n",
    "        return xk, k\n",
    "\n",
    "\n",
    "def f(x):\n",
    "     return exp(x) + 2**(-x) + 2*cos(x) - 6\n",
    "    \n",
    "df = \n",
    "a, b = 1.0, 2.0\n",
    "tolerancia = 1e-6"
   ]
  }
 ],
 "metadata": {
  "kernelspec": {
   "display_name": "Python 3",
   "language": "python",
   "name": "python3"
  },
  "language_info": {
   "codemirror_mode": {
    "name": "ipython",
    "version": 3
   },
   "file_extension": ".py",
   "mimetype": "text/x-python",
   "name": "python",
   "nbconvert_exporter": "python",
   "pygments_lexer": "ipython3",
   "version": "3.13.3"
  }
 },
 "nbformat": 4,
 "nbformat_minor": 5
}
