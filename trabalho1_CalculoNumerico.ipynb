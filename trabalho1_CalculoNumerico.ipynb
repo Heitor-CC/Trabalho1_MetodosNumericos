{
 "cells": [
  {
   "cell_type": "code",
   "execution_count": null,
   "id": "c70f3d92",
   "metadata": {},
   "outputs": [
    {
     "name": "stdout",
     "output_type": "stream",
     "text": [
      "Derivada aproximada: 0.312048\n",
      "Derivada exata (cos(1 rad)): 0.540302\n",
      "Erro absoluto: 2.282543e-01\n",
      "\n",
      "Nota: 1 radiano ≈ 57.3 graus\n",
      "cos(1 radiano) = 0.540302\n",
      "cos(1 grau) = 0.999848\n",
      "Derivada exata: 0.5403023058681398\n"
     ]
    }
   ],
   "source": [
    "import matplotlib.pyplot as plt\n",
    "import math\n",
    "import numpy as np\n",
    "\n",
    "class derivadas:\n",
    "    def __init__(self, funcao):\n",
    "        self.funcao = funcao\n",
    "\n",
    "    def diferenca_progressiva(self,f, x, h):\n",
    "        \n",
    "        return (f(x + h) - f(x)) / h\n",
    "\n",
    "def f(x):\n",
    "    return sin(x)\n",
    "\n",
    "derivada = derivadas(f)\n",
    "valores_h = np.linspace(0.5, 1, 10)\n",
    "derivada_aproximada_1 = derivada.diferenca_progressiva(f, 1.0, valores_h[0])\n",
    "\n",
    "derivada_exata = cos(1.0)\n",
    "erro_1 = abs(derivada_aproximada_1 - derivada_exata)\n",
    "\n",
    "print(f\"Derivada aproximada: {derivada_aproximada_1:.6f}\")"
   ]
  },
  {
   "cell_type": "code",
   "execution_count": 1,
   "id": "538ce8cf",
   "metadata": {},
   "outputs": [
    {
     "name": "stdout",
     "output_type": "stream",
     "text": [
      "Raiz encontrada: 1.829383\n",
      "Número de passos: 4\n"
     ]
    }
   ],
   "source": [
    "#Exercício 2\n",
    "\n",
    "from math import cos, exp\n",
    "from jax import grad\n",
    "import jax.numpy as jnp\n",
    "\n",
    "def metodo_de_newton(f, df, x0, tol):\n",
    "    xk = x0\n",
    "    k = 0\n",
    "    fx = f(xk)\n",
    "    while (abs(fx) > tol):\n",
    "        dfx = df(xk)\n",
    "        if dfx == 0:\n",
    "            raise ValueError(\"Derivada zero. O método de Newton falhou.\")\n",
    "        xk = xk - fx / dfx\n",
    "        k += 1\n",
    "        fx = f(xk)\n",
    "\n",
    "    return xk, k\n",
    "\n",
    "\n",
    "def f(x):\n",
    "     return jnp.exp(x) + 2.0**(-x) + 2.0*jnp.cos(x) - 6.0\n",
    "    \n",
    "df = grad(f)\n",
    "\n",
    "a, b = 1.0, 2.0\n",
    "x0 = (a + b) / 2.0\n",
    "tolerancia = 1e-6\n",
    "\n",
    "raiz, passos = metodo_de_newton(f, df, x0, tolerancia)\n",
    "print(f\"Raiz encontrada: {raiz:.6f}\\nNúmero de passos: {passos}\")\n"
   ]
  }
 ],
 "metadata": {
  "kernelspec": {
   "display_name": "Python 3",
   "language": "python",
   "name": "python3"
  },
  "language_info": {
   "codemirror_mode": {
    "name": "ipython",
    "version": 3
   },
   "file_extension": ".py",
   "mimetype": "text/x-python",
   "name": "python",
   "nbconvert_exporter": "python",
   "pygments_lexer": "ipython3",
   "version": "3.13.3"
  }
 },
 "nbformat": 4,
 "nbformat_minor": 5
}
